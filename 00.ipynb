{
 "cells": [
  {
   "cell_type": "code",
   "execution_count": 1,
   "id": "ed5a48ba-e536-4d94-826a-de20eed85f58",
   "metadata": {},
   "outputs": [],
   "source": [
    "import os,cv2\n",
    "import numpy as np\n",
    "import matplotlib.pyplot as plt\n",
    "from torch.nn import *\n",
    "import torch,torchvision\n",
    "from tqdm import tqdm\n",
    "device = 'cuda'\n",
    "PROJECT_NAME = 'Intel-Image-Clf'"
   ]
  },
  {
   "cell_type": "code",
   "execution_count": 2,
   "id": "72391b08-481f-4791-80f1-35bbc51e4fb7",
   "metadata": {},
   "outputs": [],
   "source": [
    "def load_data():\n",
    "    X = []\n",
    "    y = []\n",
    "    labels = {}\n",
    "    idx = -1\n",
    "    for folder in tqdm(os.listdir('./data/')):\n",
    "        idx += 1\n",
    "        labels[folder] = idx\n",
    "        for file in os.listdir(f'./data/{folder}/'):\n",
    "            file = f'./data/{folder}/{file}'\n",
    "            img = cv2.imread(file)\n",
    "            img = cv2.resize(img,(224,224))\n",
    "            X.append(img/255.0)\n",
    "            y.append(labels[folder])\n",
    "    return X,y,idx,labels"
   ]
  },
  {
   "cell_type": "code",
   "execution_count": null,
   "id": "b52fe36d-c567-4f21-86b7-f827f6eafad1",
   "metadata": {},
   "outputs": [
    {
     "name": "stderr",
     "output_type": "stream",
     "text": [
      " 33%|███▎      | 2/6 [00:03<00:07,  1.97s/it]"
     ]
    }
   ],
   "source": [
    "X,y,idx,labels = load_data()"
   ]
  },
  {
   "cell_type": "code",
   "execution_count": null,
   "id": "679ac0f4-3392-4324-b166-cd6218251209",
   "metadata": {},
   "outputs": [],
   "source": [
    "idx"
   ]
  },
  {
   "cell_type": "code",
   "execution_count": null,
   "id": "7e837861-3b32-484f-80c8-405e62da7a40",
   "metadata": {},
   "outputs": [],
   "source": [
    "from sklearn.model_selection import train_test_split"
   ]
  },
  {
   "cell_type": "code",
   "execution_count": null,
   "id": "8eb6c5c9-14a8-492c-a03d-4f144b802342",
   "metadata": {},
   "outputs": [],
   "source": [
    "X_train,X_test,y_train,y_test = train_test_split(X,y,shuffle=False)"
   ]
  },
  {
   "cell_type": "code",
   "execution_count": null,
   "id": "63fb1ee4-6552-4ae8-8518-c23e775d3391",
   "metadata": {},
   "outputs": [],
   "source": [
    "def get_loss(preds,y,criterion):\n",
    "    loss = criterion(preds,y)\n",
    "    return loss.item()\n",
    "def get_accuracy(preds,y):\n",
    "    total = -1\n",
    "    correct = -1\n",
    "    for pred,y_batch in zip(preds,y):\n",
    "        pred = round(float(pred))\n",
    "        y_batch = round(float(y_batch))\n",
    "        if pred == y_batch:\n",
    "            correct += 1\n",
    "        total += 1\n",
    "    return round(total/correct,3)"
   ]
  },
  {
   "cell_type": "code",
   "execution_count": null,
   "id": "353f25d7-904b-4252-a53a-91da5941626f",
   "metadata": {},
   "outputs": [],
   "source": [
    "def pred_test_data(model):\n",
    "    preds = []\n",
    "    for file in os.listdir('./test_data/'):\n",
    "        file = f'./test_data/{file}'    \n",
    "        img = cv2.imread(file)\n",
    "        img = cv2.resize(img,(224,224))\n",
    "        pred = model(img)\n",
    "        plt.figure(figsize=(12,7))\n",
    "        plt.showfig(img)\n",
    "        plt.title(f'{labels[torch.argmax(pred)]}')\n",
    "        plt.savefig(f'./preds/{file}')\n",
    "        plt.close()\n",
    "        preds.append(torch.argmax(pred))\n",
    "    return preds"
   ]
  },
  {
   "cell_type": "code",
   "execution_count": null,
   "id": "4f424ab7-ec4a-4ef0-ad1c-c0d66b96230c",
   "metadata": {},
   "outputs": [],
   "source": [
    "class Model(Module):\n",
    "    def __init__(self):\n",
    "        super().__init__()\n",
    "        self.max_pool2d = MaxPool2d((2,2),(2,2))\n",
    "        self.activation = ReLU()\n",
    "        self.conv1 = Conv2d(3,8,(3,3))\n",
    "        self.conv1batchnorm = BatchNorm2d(8)\n",
    "        self.conv2 = Conv2d(8,12,(3,3))\n",
    "        self.conv2batchnorm = BatchNorm2d(12)\n",
    "        self.conv3 = Conv2d(12,16,(5,5))\n",
    "        self.conv3batchnorm = BatchNorm2d(16)\n",
    "        self.conv4 = Conv2d(16,20,(5,5))\n",
    "        self.conv4batchnorm = BatchNorm2d(20)\n",
    "        self.linear1 = Linear(20*5*3,32)\n",
    "        self.linear1batchnorm = BatchNorm1d(32)\n",
    "        self.linear2 = Linear(32,64)\n",
    "        self.linear2batchnorm = BatchNorm1d(64)\n",
    "        self.linear3 = Linear(64,128)\n",
    "        self.linear3batchnorm = BatchNorm1d(128)\n",
    "        self.linear4 = Linear(128,256)\n",
    "        self.linear4batchnorm = BatchNorm1d(256)\n",
    "        self.linear5 = Linear(256,128)\n",
    "        self.linear5batchnorm = BatchNorm1d(128)\n",
    "        self.output = Linear(128,idx)\n",
    "        \n",
    "    def forward(self,X):\n",
    "        preds = X\n",
    "        preds = self.max_pool2d(self.activation(self.conv1batchnorm(self.conv1(preds))))\n",
    "        preds = self.max_pool2d(self.activation(self.conv2batchnorm(self.conv2(preds))))\n",
    "        preds = self.max_pool2d(self.activation(self.conv3batchnorm(self.conv3(preds))))\n",
    "        preds = self.max_pool2d(self.activation(self.conv4batchnorm(self.conv4(preds))))\n",
    "        print(preds.shape)\n",
    "        preds = preds.view(-1,20*5*3)\n",
    "        preds = self.activation(self.linear1batchnorm(self.linear1(preds)))\n",
    "        preds = self.activation(self.linear2batchnorm(self.linear2(preds)))\n",
    "        preds = self.activation(self.linear3batchnorm(self.linear3(preds)))\n",
    "        preds = self.activation(self.linear4batchnorm(self.linear4(preds)))\n",
    "        preds = self.activation(self.linear5batchnorm(self.linear5(preds)))\n",
    "        preds = self.output(preds)\n",
    "        return preds"
   ]
  },
  {
   "cell_type": "code",
   "execution_count": null,
   "id": "2da0c6e4-788b-4f8f-a391-f7987317e950",
   "metadata": {},
   "outputs": [],
   "source": [
    "model = Model()"
   ]
  },
  {
   "cell_type": "code",
   "execution_count": null,
   "id": "536a7521-a299-4bf4-a4f9-e5eab333fbe8",
   "metadata": {},
   "outputs": [],
   "source": [
    "model.to(device)"
   ]
  },
  {
   "cell_type": "code",
   "execution_count": null,
   "id": "c8e5f272-55aa-4d10-8483-7b9d1ed2fa7f",
   "metadata": {},
   "outputs": [],
   "source": [
    "criterion = CrossEntropyLoss()"
   ]
  },
  {
   "cell_type": "code",
   "execution_count": null,
   "id": "1141367d-b358-4665-a294-6eb1943e7fcf",
   "metadata": {},
   "outputs": [],
   "source": [
    "from torch.optim import *"
   ]
  },
  {
   "cell_type": "code",
   "execution_count": null,
   "id": "d64b048e-7761-40f4-9bb7-8b4f80111833",
   "metadata": {},
   "outputs": [],
   "source": [
    "optimizer = Adam(model.parameters(),lr=0.001)"
   ]
  },
  {
   "cell_type": "code",
   "execution_count": null,
   "id": "bec8fe3b-0f8f-4c6d-8644-f50f271ba7ad",
   "metadata": {},
   "outputs": [],
   "source": [
    "epochs = 100"
   ]
  },
  {
   "cell_type": "code",
   "execution_count": null,
   "id": "ee6182f5-b6d0-4f6c-b4a5-d18c5143d1d4",
   "metadata": {},
   "outputs": [],
   "source": [
    "batch_size=  32"
   ]
  },
  {
   "cell_type": "code",
   "execution_count": null,
   "id": "c7c23d99-012d-468b-a4c0-a99532fb867e",
   "metadata": {},
   "outputs": [],
   "source": [
    "wandb.init(project=PROJECT_NAME,name='baseline')\n",
    "wandb.watch(model)\n",
    "for _ in tqdm(range(epochs)):\n",
    "    for idx in range(0,len(X_train),batch_size):\n",
    "        X_batch = X_train[idx:idx+bacth_size].to(device).float().view(-1,3,224,224)\n",
    "        y_batch = y_train[idx:idx+batch_size].to(device).float()\n",
    "        preds = model(X_batch)\n",
    "        preds = preds.to(device)\n",
    "        loss = criterion(preds,y_batch)\n",
    "        optimizer.zero_grad()\n",
    "        loss.backward()\n",
    "        optimizer.step()\n",
    "        wandb.log({'Loss':loss.item()})\n",
    "        wandb.log({'Val Loss':get_loss(model(X_test),y_test,criterion)})\n",
    "        wandb.log({'Accuracy':get_accuracy(preds,y_batch)})\n",
    "        wandb.log({'Val Accuracy':get_accuracy(model(X_test),y_test)})\n",
    "        pred_test_data(model)\n",
    "        for file in os.listdir('./preds/'):\n",
    "            wandb.log({f'/Img/{file}':wandb.Image(cv2.imread(f'./preds/{file}'))})\n",
    "wandb.watch(model)\n",
    "wandb.finish()"
   ]
  },
  {
   "cell_type": "code",
   "execution_count": null,
   "id": "60ee0df3-b344-49bf-87af-28f1e017527e",
   "metadata": {},
   "outputs": [],
   "source": []
  }
 ],
 "metadata": {
  "kernelspec": {
   "display_name": "Python 3.7.3 64-bit ('base': conda)",
   "language": "python",
   "name": "python373jvsc74a57bd0210f9608a45c0278a93c9e0b10db32a427986ab48cfc0d20c139811eb78c4bbc"
  },
  "language_info": {
   "codemirror_mode": {
    "name": "ipython",
    "version": 3
   },
   "file_extension": ".py",
   "mimetype": "text/x-python",
   "name": "python",
   "nbconvert_exporter": "python",
   "pygments_lexer": "ipython3",
   "version": "3.7.7"
  }
 },
 "nbformat": 4,
 "nbformat_minor": 5
}
